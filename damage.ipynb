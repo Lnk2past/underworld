{
 "nbformat": 4,
 "nbformat_minor": 2,
 "metadata": {
  "language_info": {
   "name": "python",
   "codemirror_mode": {
    "name": "ipython",
    "version": 3
   },
   "version": "3.7.3-final"
  },
  "orig_nbformat": 2,
  "file_extension": ".py",
  "mimetype": "text/x-python",
  "name": "python",
  "npconvert_exporter": "python",
  "pygments_lexer": "ipython3",
  "version": 3
 },
 "cells": [
  {
   "cell_type": "markdown",
   "metadata": {},
   "source": [
    "# Underworld\n",
    "\n",
    "This notebook is a Hades Star battle simulator. This is a huge WIP, and will be for some time. For now you can create a `squad` which consists of `battleship` objects outfitted with whatever mods you desire. You can then select the Cerberus ship you wish to fight and the output number is `time to kill`, or the number of seconds needed to bring the Cerberus ship to 0 hit points.\n",
    "\n",
    "Right now only weapon modules are available, but more will be added very soon! Some other things that need to be added are attack ranges, return fire from ships, dynamic number of targets, and other modifiers (Time Warp, Unity, Salvage, etc.). Ideally I would also like to be able to randomly generate sectors and Monte Carlo squad performance.\n",
    "\n",
    "For now create your squad and attack a Cerberus ship!"
   ]
  },
  {
   "cell_type": "code",
   "execution_count": null,
   "metadata": {},
   "outputs": [],
   "source": [
    "from underworld.calculators import *\n",
    "from underworld.modules import *\n",
    "from underworld.units import *"
   ]
  },
  {
   "cell_type": "code",
   "execution_count": null,
   "metadata": {},
   "outputs": [],
   "source": [
    "squad = [\n",
    "    battleship(5, laser(12)),\n",
    "    battleship(5, laser(12)),\n",
    "    battleship(5, laser(12))\n",
    "]\n",
    "time_to_kill(squad, colossus)"
   ]
  }
 ]
}