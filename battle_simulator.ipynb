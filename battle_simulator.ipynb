{
 "nbformat": 4,
 "nbformat_minor": 2,
 "metadata": {
  "language_info": {
   "name": "python",
   "codemirror_mode": {
    "name": "ipython",
    "version": 3
   },
   "version": "3.7.3-final"
  },
  "orig_nbformat": 2,
  "file_extension": ".py",
  "mimetype": "text/x-python",
  "name": "python",
  "npconvert_exporter": "python",
  "pygments_lexer": "ipython3",
  "version": 3
 },
 "cells": [
  {
   "cell_type": "markdown",
   "metadata": {},
   "source": [
    "# Underworld\n",
    "\n",
    "This notebook is a Hades Star battle simulator. This is a huge WIP, and will be for some time. The cells below show some of what you can do:\n",
    "\n",
    "* configure `battleships`\n",
    "    * level\n",
    "    * weapon module\n",
    "    * shield module\n",
    "    * support modules\n",
    "    * [optional] name\n",
    "* add `Cerberus` ships\n",
    "* configure teams of ships\n",
    "* configure triggers and actions (e.g. activate shield at low hull)\n",
    "\n",
    "Once you are done, running the function `simulate_battle` will start the simulation. Whenever a ship dies, a `sector_death` event will occur, triggering things like `salvage`. Once only a single team remains, the results are given, showing what ships are left and what their hull/shields are at."
   ]
  },
  {
   "cell_type": "code",
   "execution_count": null,
   "metadata": {},
   "outputs": [],
   "source": [
    "from underworld.calculators import *\n",
    "from underworld.corporation import *\n",
    "from underworld.units import *\n",
    "from underworld.sector import sector\n",
    "from underworld.event_manager.event_manager import global_event_manager\n",
    "from underworld.event_manager.actions import *\n",
    "from underworld.event_manager.triggers import *"
   ]
  },
  {
   "cell_type": "code",
   "execution_count": null,
   "metadata": {},
   "outputs": [],
   "source": [
    "battle_sector = sector()\n",
    "\n",
    "team_1 = corporation('team_1', [\n",
    "                     battleship(5, dual_laser(5), omega_shield(9), salvage(9), name='bs1'),\n",
    "                     battleship(5, dual_laser(5), omega_shield(9), salvage(9), name='bs2'),\n",
    "                     battleship(5, mass_battery(5), omega_shield(9), salvage(9), name='bs3')])\n",
    "\n",
    "team_1[0].set_trigger(hull_percentage.param('threshold', 0.2), activate_shield)\n",
    "team_1[1].set_trigger(hull_percentage.param('threshold', 0.2), activate_shield)\n",
    "team_1[2].set_trigger(hull_percentage.param('threshold', 0.2), activate_shield)\n",
    "\n",
    "team_2 = corporation('cerberus',\n",
    "                     [\n",
    "                        bomber(),\n",
    "                        phoenix()\n",
    "                     ])\n",
    "\n",
    "for u in team_1.members + team_2.members:\n",
    "    battle_sector.enter(u)\n",
    "\n",
    "simulate_battle(battle_sector, team_1, team_2)\n"
   ]
  }
 ]
}